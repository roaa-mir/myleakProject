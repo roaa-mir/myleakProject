{
 "cells": [
  {
   "cell_type": "code",
   "execution_count": 1,
   "metadata": {},
   "outputs": [],
   "source": [
    "import pandas as pd"
   ]
  },
  {
   "cell_type": "code",
   "execution_count": 2,
   "metadata": {},
   "outputs": [
    {
     "data": {
      "text/html": [
       "<div>\n",
       "<style scoped>\n",
       "    .dataframe tbody tr th:only-of-type {\n",
       "        vertical-align: middle;\n",
       "    }\n",
       "\n",
       "    .dataframe tbody tr th {\n",
       "        vertical-align: top;\n",
       "    }\n",
       "\n",
       "    .dataframe thead th {\n",
       "        text-align: right;\n",
       "    }\n",
       "</style>\n",
       "<table border=\"1\" class=\"dataframe\">\n",
       "  <thead>\n",
       "    <tr style=\"text-align: right;\">\n",
       "      <th></th>\n",
       "      <th>Unnamed: 0</th>\n",
       "      <th>Entity</th>\n",
       "      <th>Year</th>\n",
       "      <th>Records</th>\n",
       "      <th>Organization type</th>\n",
       "      <th>Method</th>\n",
       "      <th>Sources</th>\n",
       "    </tr>\n",
       "  </thead>\n",
       "  <tbody>\n",
       "    <tr>\n",
       "      <th>0</th>\n",
       "      <td>0</td>\n",
       "      <td>21st Century Oncology</td>\n",
       "      <td>2016</td>\n",
       "      <td>2200000</td>\n",
       "      <td>healthcare</td>\n",
       "      <td>hacked</td>\n",
       "      <td>[5][6]</td>\n",
       "    </tr>\n",
       "    <tr>\n",
       "      <th>1</th>\n",
       "      <td>1</td>\n",
       "      <td>500px</td>\n",
       "      <td>2020</td>\n",
       "      <td>14870304</td>\n",
       "      <td>social networking</td>\n",
       "      <td>hacked</td>\n",
       "      <td>[7]</td>\n",
       "    </tr>\n",
       "    <tr>\n",
       "      <th>2</th>\n",
       "      <td>2</td>\n",
       "      <td>Accendo Insurance Co.</td>\n",
       "      <td>2020</td>\n",
       "      <td>175350</td>\n",
       "      <td>healthcare</td>\n",
       "      <td>poor security</td>\n",
       "      <td>[8][9]</td>\n",
       "    </tr>\n",
       "    <tr>\n",
       "      <th>3</th>\n",
       "      <td>3</td>\n",
       "      <td>Adobe Systems Incorporated</td>\n",
       "      <td>2013</td>\n",
       "      <td>152000000</td>\n",
       "      <td>tech</td>\n",
       "      <td>hacked</td>\n",
       "      <td>[10]</td>\n",
       "    </tr>\n",
       "    <tr>\n",
       "      <th>4</th>\n",
       "      <td>4</td>\n",
       "      <td>Adobe Inc.</td>\n",
       "      <td>2019</td>\n",
       "      <td>7500000</td>\n",
       "      <td>tech</td>\n",
       "      <td>poor security</td>\n",
       "      <td>[11][12]</td>\n",
       "    </tr>\n",
       "  </tbody>\n",
       "</table>\n",
       "</div>"
      ],
      "text/plain": [
       "   Unnamed: 0                      Entity  Year    Records  Organization type  \\\n",
       "0           0       21st Century Oncology  2016    2200000         healthcare   \n",
       "1           1                       500px  2020   14870304  social networking   \n",
       "2           2       Accendo Insurance Co.  2020     175350         healthcare   \n",
       "3           3  Adobe Systems Incorporated  2013  152000000               tech   \n",
       "4           4                  Adobe Inc.  2019    7500000               tech   \n",
       "\n",
       "          Method   Sources  \n",
       "0         hacked    [5][6]  \n",
       "1         hacked       [7]  \n",
       "2  poor security    [8][9]  \n",
       "3         hacked      [10]  \n",
       "4  poor security  [11][12]  "
      ]
     },
     "execution_count": 2,
     "metadata": {},
     "output_type": "execute_result"
    }
   ],
   "source": [
    "df= pd.read_csv(\"C:\\\\Users\\\\USER\\\\Desktop\\\\myleak\\\\databreach.csv\")\n",
    "df.head()"
   ]
  },
  {
   "cell_type": "code",
   "execution_count": 3,
   "metadata": {},
   "outputs": [
    {
     "data": {
      "text/html": [
       "<div>\n",
       "<style scoped>\n",
       "    .dataframe tbody tr th:only-of-type {\n",
       "        vertical-align: middle;\n",
       "    }\n",
       "\n",
       "    .dataframe tbody tr th {\n",
       "        vertical-align: top;\n",
       "    }\n",
       "\n",
       "    .dataframe thead th {\n",
       "        text-align: right;\n",
       "    }\n",
       "</style>\n",
       "<table border=\"1\" class=\"dataframe\">\n",
       "  <thead>\n",
       "    <tr style=\"text-align: right;\">\n",
       "      <th></th>\n",
       "      <th>Unnamed: 0</th>\n",
       "      <th>Entity</th>\n",
       "      <th>Year</th>\n",
       "      <th>Records</th>\n",
       "      <th>Organization type</th>\n",
       "      <th>Method</th>\n",
       "      <th>Sources</th>\n",
       "    </tr>\n",
       "  </thead>\n",
       "  <tbody>\n",
       "    <tr>\n",
       "      <th>0</th>\n",
       "      <td>0</td>\n",
       "      <td>21st Century Oncology</td>\n",
       "      <td>2016</td>\n",
       "      <td>2200000</td>\n",
       "      <td>healthcare</td>\n",
       "      <td>hacked</td>\n",
       "      <td>[5][6]</td>\n",
       "    </tr>\n",
       "    <tr>\n",
       "      <th>1</th>\n",
       "      <td>1</td>\n",
       "      <td>500px</td>\n",
       "      <td>2020</td>\n",
       "      <td>14870304</td>\n",
       "      <td>social networking</td>\n",
       "      <td>hacked</td>\n",
       "      <td>[7]</td>\n",
       "    </tr>\n",
       "    <tr>\n",
       "      <th>2</th>\n",
       "      <td>2</td>\n",
       "      <td>Accendo Insurance Co.</td>\n",
       "      <td>2020</td>\n",
       "      <td>175350</td>\n",
       "      <td>healthcare</td>\n",
       "      <td>poor security</td>\n",
       "      <td>[8][9]</td>\n",
       "    </tr>\n",
       "    <tr>\n",
       "      <th>3</th>\n",
       "      <td>3</td>\n",
       "      <td>Adobe Systems Incorporated</td>\n",
       "      <td>2013</td>\n",
       "      <td>152000000</td>\n",
       "      <td>tech</td>\n",
       "      <td>hacked</td>\n",
       "      <td>[10]</td>\n",
       "    </tr>\n",
       "    <tr>\n",
       "      <th>4</th>\n",
       "      <td>4</td>\n",
       "      <td>Adobe Inc.</td>\n",
       "      <td>2019</td>\n",
       "      <td>7500000</td>\n",
       "      <td>tech</td>\n",
       "      <td>poor security</td>\n",
       "      <td>[11][12]</td>\n",
       "    </tr>\n",
       "    <tr>\n",
       "      <th>...</th>\n",
       "      <td>...</td>\n",
       "      <td>...</td>\n",
       "      <td>...</td>\n",
       "      <td>...</td>\n",
       "      <td>...</td>\n",
       "      <td>...</td>\n",
       "      <td>...</td>\n",
       "    </tr>\n",
       "    <tr>\n",
       "      <th>347</th>\n",
       "      <td>347</td>\n",
       "      <td>Zynga</td>\n",
       "      <td>2019</td>\n",
       "      <td>173000000</td>\n",
       "      <td>social network</td>\n",
       "      <td>hacked</td>\n",
       "      <td>[406][407]</td>\n",
       "    </tr>\n",
       "    <tr>\n",
       "      <th>348</th>\n",
       "      <td>348</td>\n",
       "      <td>Unknown agency(believed to be tied to United S...</td>\n",
       "      <td>2020</td>\n",
       "      <td>200000000</td>\n",
       "      <td>financial</td>\n",
       "      <td>accidentally published</td>\n",
       "      <td>[408]</td>\n",
       "    </tr>\n",
       "    <tr>\n",
       "      <th>349</th>\n",
       "      <td>349</td>\n",
       "      <td>National Health Information Center (NCZI) of S...</td>\n",
       "      <td>2020</td>\n",
       "      <td>391250</td>\n",
       "      <td>healthcare</td>\n",
       "      <td>poor security</td>\n",
       "      <td>[409]</td>\n",
       "    </tr>\n",
       "    <tr>\n",
       "      <th>350</th>\n",
       "      <td>350</td>\n",
       "      <td>50 companies and government institutions</td>\n",
       "      <td>2022</td>\n",
       "      <td>6400000</td>\n",
       "      <td>various</td>\n",
       "      <td>poor security</td>\n",
       "      <td>[410] [411]</td>\n",
       "    </tr>\n",
       "    <tr>\n",
       "      <th>351</th>\n",
       "      <td>351</td>\n",
       "      <td>IKEA</td>\n",
       "      <td>2022</td>\n",
       "      <td>95000</td>\n",
       "      <td>retail</td>\n",
       "      <td>accidentally published</td>\n",
       "      <td>[412]</td>\n",
       "    </tr>\n",
       "  </tbody>\n",
       "</table>\n",
       "<p>352 rows × 7 columns</p>\n",
       "</div>"
      ],
      "text/plain": [
       "     Unnamed: 0                                             Entity  Year  \\\n",
       "0             0                              21st Century Oncology  2016   \n",
       "1             1                                              500px  2020   \n",
       "2             2                              Accendo Insurance Co.  2020   \n",
       "3             3                         Adobe Systems Incorporated  2013   \n",
       "4             4                                         Adobe Inc.  2019   \n",
       "..          ...                                                ...   ...   \n",
       "347         347                                              Zynga  2019   \n",
       "348         348  Unknown agency(believed to be tied to United S...  2020   \n",
       "349         349  National Health Information Center (NCZI) of S...  2020   \n",
       "350         350           50 companies and government institutions  2022   \n",
       "351         351                                               IKEA  2022   \n",
       "\n",
       "       Records  Organization type                  Method      Sources  \n",
       "0      2200000         healthcare                  hacked       [5][6]  \n",
       "1     14870304  social networking                  hacked          [7]  \n",
       "2       175350         healthcare           poor security       [8][9]  \n",
       "3    152000000               tech                  hacked         [10]  \n",
       "4      7500000               tech           poor security     [11][12]  \n",
       "..         ...                ...                     ...          ...  \n",
       "347  173000000     social network                  hacked   [406][407]  \n",
       "348  200000000          financial  accidentally published        [408]  \n",
       "349     391250         healthcare           poor security        [409]  \n",
       "350    6400000            various           poor security  [410] [411]  \n",
       "351      95000             retail  accidentally published        [412]  \n",
       "\n",
       "[352 rows x 7 columns]"
      ]
     },
     "execution_count": 3,
     "metadata": {},
     "output_type": "execute_result"
    }
   ],
   "source": [
    "df"
   ]
  },
  {
   "cell_type": "code",
   "execution_count": 4,
   "metadata": {},
   "outputs": [
    {
     "name": "stdout",
     "output_type": "stream",
     "text": [
      "<class 'pandas.core.frame.DataFrame'>\n",
      "RangeIndex: 352 entries, 0 to 351\n",
      "Data columns (total 7 columns):\n",
      " #   Column             Non-Null Count  Dtype \n",
      "---  ------             --------------  ----- \n",
      " 0   Unnamed: 0         352 non-null    int64 \n",
      " 1   Entity             352 non-null    object\n",
      " 2   Year               352 non-null    object\n",
      " 3   Records            350 non-null    object\n",
      " 4   Organization type  352 non-null    object\n",
      " 5   Method             351 non-null    object\n",
      " 6   Sources            350 non-null    object\n",
      "dtypes: int64(1), object(6)\n",
      "memory usage: 19.4+ KB\n"
     ]
    }
   ],
   "source": [
    "df.info()"
   ]
  },
  {
   "cell_type": "code",
   "execution_count": 5,
   "metadata": {},
   "outputs": [
    {
     "name": "stdout",
     "output_type": "stream",
     "text": [
      "numerical:  Index(['Unnamed: 0'], dtype='object')\n"
     ]
    }
   ],
   "source": [
    "numerical_colns = df.select_dtypes(include=['float64','int64']).columns\n",
    "print(\"numerical: \",numerical_colns)"
   ]
  },
  {
   "cell_type": "code",
   "execution_count": 6,
   "metadata": {},
   "outputs": [
    {
     "data": {
      "text/plain": [
       "Unnamed: 0            int64\n",
       "Entity               object\n",
       "Year                 object\n",
       "Records              object\n",
       "Organization type    object\n",
       "Method               object\n",
       "Sources              object\n",
       "dtype: object"
      ]
     },
     "execution_count": 6,
     "metadata": {},
     "output_type": "execute_result"
    }
   ],
   "source": [
    "df.dtypes"
   ]
  },
  {
   "cell_type": "code",
   "execution_count": 7,
   "metadata": {},
   "outputs": [],
   "source": [
    "df = df.drop(columns=['Unnamed: 0'])"
   ]
  },
  {
   "cell_type": "code",
   "execution_count": 8,
   "metadata": {},
   "outputs": [],
   "source": [
    "df.columns = df.columns.str.lower().str.replace(' ', '_')"
   ]
  },
  {
   "cell_type": "code",
   "execution_count": 9,
   "metadata": {},
   "outputs": [
    {
     "data": {
      "text/html": [
       "<div>\n",
       "<style scoped>\n",
       "    .dataframe tbody tr th:only-of-type {\n",
       "        vertical-align: middle;\n",
       "    }\n",
       "\n",
       "    .dataframe tbody tr th {\n",
       "        vertical-align: top;\n",
       "    }\n",
       "\n",
       "    .dataframe thead th {\n",
       "        text-align: right;\n",
       "    }\n",
       "</style>\n",
       "<table border=\"1\" class=\"dataframe\">\n",
       "  <thead>\n",
       "    <tr style=\"text-align: right;\">\n",
       "      <th></th>\n",
       "      <th>entity</th>\n",
       "      <th>year</th>\n",
       "      <th>records</th>\n",
       "      <th>organization_type</th>\n",
       "      <th>method</th>\n",
       "      <th>sources</th>\n",
       "    </tr>\n",
       "  </thead>\n",
       "  <tbody>\n",
       "    <tr>\n",
       "      <th>0</th>\n",
       "      <td>21st Century Oncology</td>\n",
       "      <td>2016</td>\n",
       "      <td>2200000</td>\n",
       "      <td>healthcare</td>\n",
       "      <td>hacked</td>\n",
       "      <td>[5][6]</td>\n",
       "    </tr>\n",
       "    <tr>\n",
       "      <th>1</th>\n",
       "      <td>500px</td>\n",
       "      <td>2020</td>\n",
       "      <td>14870304</td>\n",
       "      <td>social networking</td>\n",
       "      <td>hacked</td>\n",
       "      <td>[7]</td>\n",
       "    </tr>\n",
       "    <tr>\n",
       "      <th>2</th>\n",
       "      <td>Accendo Insurance Co.</td>\n",
       "      <td>2020</td>\n",
       "      <td>175350</td>\n",
       "      <td>healthcare</td>\n",
       "      <td>poor security</td>\n",
       "      <td>[8][9]</td>\n",
       "    </tr>\n",
       "    <tr>\n",
       "      <th>3</th>\n",
       "      <td>Adobe Systems Incorporated</td>\n",
       "      <td>2013</td>\n",
       "      <td>152000000</td>\n",
       "      <td>tech</td>\n",
       "      <td>hacked</td>\n",
       "      <td>[10]</td>\n",
       "    </tr>\n",
       "    <tr>\n",
       "      <th>4</th>\n",
       "      <td>Adobe Inc.</td>\n",
       "      <td>2019</td>\n",
       "      <td>7500000</td>\n",
       "      <td>tech</td>\n",
       "      <td>poor security</td>\n",
       "      <td>[11][12]</td>\n",
       "    </tr>\n",
       "  </tbody>\n",
       "</table>\n",
       "</div>"
      ],
      "text/plain": [
       "                       entity  year    records  organization_type  \\\n",
       "0       21st Century Oncology  2016    2200000         healthcare   \n",
       "1                       500px  2020   14870304  social networking   \n",
       "2       Accendo Insurance Co.  2020     175350         healthcare   \n",
       "3  Adobe Systems Incorporated  2013  152000000               tech   \n",
       "4                  Adobe Inc.  2019    7500000               tech   \n",
       "\n",
       "          method   sources  \n",
       "0         hacked    [5][6]  \n",
       "1         hacked       [7]  \n",
       "2  poor security    [8][9]  \n",
       "3         hacked      [10]  \n",
       "4  poor security  [11][12]  "
      ]
     },
     "execution_count": 9,
     "metadata": {},
     "output_type": "execute_result"
    }
   ],
   "source": [
    "df.head()"
   ]
  },
  {
   "cell_type": "code",
   "execution_count": 10,
   "metadata": {},
   "outputs": [
    {
     "name": "stdout",
     "output_type": "stream",
     "text": [
      "entity               0\n",
      "year                 0\n",
      "records              2\n",
      "organization_type    0\n",
      "method               1\n",
      "sources              2\n",
      "dtype: int64\n"
     ]
    }
   ],
   "source": [
    "print(df.isnull().sum())"
   ]
  },
  {
   "cell_type": "code",
   "execution_count": 12,
   "metadata": {},
   "outputs": [
    {
     "name": "stdout",
     "output_type": "stream",
     "text": [
      "3\n"
     ]
    }
   ],
   "source": [
    "print(df.duplicated(subset=['entity', 'year']).sum())"
   ]
  },
  {
   "cell_type": "code",
   "execution_count": 13,
   "metadata": {},
   "outputs": [],
   "source": [
    "df = df.drop_duplicates(subset=['entity', 'year'], keep='first')"
   ]
  },
  {
   "cell_type": "code",
   "execution_count": 14,
   "metadata": {},
   "outputs": [
    {
     "name": "stdout",
     "output_type": "stream",
     "text": [
      "0\n"
     ]
    }
   ],
   "source": [
    "print(df.duplicated(subset=['entity', 'year']).sum())"
   ]
  },
  {
   "cell_type": "code",
   "execution_count": 48,
   "metadata": {},
   "outputs": [],
   "source": [
    "df['records'] = pd.to_numeric(df['records'], errors='coerce')\n",
    "df['records'] = df['records'].fillna(0).astype('int64')\n"
   ]
  },
  {
   "cell_type": "code",
   "execution_count": 47,
   "metadata": {},
   "outputs": [],
   "source": [
    "df['year'] = pd.to_numeric(df['year'], errors='coerce')\n",
    "df['year'] = df['year'].fillna(0).astype('int64')"
   ]
  },
  {
   "cell_type": "code",
   "execution_count": 49,
   "metadata": {},
   "outputs": [
    {
     "name": "stdout",
     "output_type": "stream",
     "text": [
      "numerical:  Index(['year', 'records'], dtype='object')\n"
     ]
    }
   ],
   "source": [
    "numerical_colns = df.select_dtypes(include=['float64','int64']).columns\n",
    "print(\"numerical: \",numerical_colns)"
   ]
  },
  {
   "cell_type": "code",
   "execution_count": 50,
   "metadata": {},
   "outputs": [
    {
     "name": "stderr",
     "output_type": "stream",
     "text": [
      "C:\\Users\\USER\\AppData\\Local\\Temp\\ipykernel_16756\\3825019888.py:1: FutureWarning: A value is trying to be set on a copy of a DataFrame or Series through chained assignment using an inplace method.\n",
      "The behavior will change in pandas 3.0. This inplace method will never work because the intermediate object on which we are setting values always behaves as a copy.\n",
      "\n",
      "For example, when doing 'df[col].method(value, inplace=True)', try using 'df.method({col: value}, inplace=True)' or df[col] = df[col].method(value) instead, to perform the operation inplace on the original object.\n",
      "\n",
      "\n",
      "  df['records'].fillna(df['records'].median(), inplace=True)\n"
     ]
    }
   ],
   "source": [
    "df['records'].fillna(df['records'].median(), inplace=True)"
   ]
  },
  {
   "cell_type": "code",
   "execution_count": 56,
   "metadata": {},
   "outputs": [],
   "source": [
    "#standardize organization_type and method values\n",
    "df['organization_type'] = df['organization_type'].str.lower().str.strip().replace(' ', '_').replace({\n",
    "        'social_networking': 'social_media',\n",
    "        'social_network': 'social_media',\n",
    "    })\n",
    "\n",
    "df['method'] = df['method'].str.lower().str.strip().replace(' ', '_').replace({\n",
    "        'poor_security': 'misconfiguration',\n",
    "        'accidentally_published': 'leak'\n",
    "    })"
   ]
  },
  {
   "cell_type": "code",
   "execution_count": 57,
   "metadata": {},
   "outputs": [
    {
     "data": {
      "text/html": [
       "<div>\n",
       "<style scoped>\n",
       "    .dataframe tbody tr th:only-of-type {\n",
       "        vertical-align: middle;\n",
       "    }\n",
       "\n",
       "    .dataframe tbody tr th {\n",
       "        vertical-align: top;\n",
       "    }\n",
       "\n",
       "    .dataframe thead th {\n",
       "        text-align: right;\n",
       "    }\n",
       "</style>\n",
       "<table border=\"1\" class=\"dataframe\">\n",
       "  <thead>\n",
       "    <tr style=\"text-align: right;\">\n",
       "      <th></th>\n",
       "      <th>entity</th>\n",
       "      <th>year</th>\n",
       "      <th>records</th>\n",
       "      <th>organization_type</th>\n",
       "      <th>method</th>\n",
       "      <th>sources</th>\n",
       "    </tr>\n",
       "  </thead>\n",
       "  <tbody>\n",
       "    <tr>\n",
       "      <th>0</th>\n",
       "      <td>21st Century Oncology</td>\n",
       "      <td>2016</td>\n",
       "      <td>2200000</td>\n",
       "      <td>healthcare</td>\n",
       "      <td>hacked</td>\n",
       "      <td>[5][6]</td>\n",
       "    </tr>\n",
       "    <tr>\n",
       "      <th>1</th>\n",
       "      <td>500px</td>\n",
       "      <td>2020</td>\n",
       "      <td>14870304</td>\n",
       "      <td>social_media</td>\n",
       "      <td>hacked</td>\n",
       "      <td>[7]</td>\n",
       "    </tr>\n",
       "    <tr>\n",
       "      <th>2</th>\n",
       "      <td>Accendo Insurance Co.</td>\n",
       "      <td>2020</td>\n",
       "      <td>175350</td>\n",
       "      <td>healthcare</td>\n",
       "      <td>misconfiguration</td>\n",
       "      <td>[8][9]</td>\n",
       "    </tr>\n",
       "    <tr>\n",
       "      <th>3</th>\n",
       "      <td>Adobe Systems Incorporated</td>\n",
       "      <td>2013</td>\n",
       "      <td>152000000</td>\n",
       "      <td>tech</td>\n",
       "      <td>hacked</td>\n",
       "      <td>[10]</td>\n",
       "    </tr>\n",
       "    <tr>\n",
       "      <th>4</th>\n",
       "      <td>Adobe Inc.</td>\n",
       "      <td>2019</td>\n",
       "      <td>7500000</td>\n",
       "      <td>tech</td>\n",
       "      <td>misconfiguration</td>\n",
       "      <td>[11][12]</td>\n",
       "    </tr>\n",
       "  </tbody>\n",
       "</table>\n",
       "</div>"
      ],
      "text/plain": [
       "                       entity  year    records organization_type  \\\n",
       "0       21st Century Oncology  2016    2200000        healthcare   \n",
       "1                       500px  2020   14870304      social_media   \n",
       "2       Accendo Insurance Co.  2020     175350        healthcare   \n",
       "3  Adobe Systems Incorporated  2013  152000000              tech   \n",
       "4                  Adobe Inc.  2019    7500000              tech   \n",
       "\n",
       "             method   sources  \n",
       "0            hacked    [5][6]  \n",
       "1            hacked       [7]  \n",
       "2  misconfiguration    [8][9]  \n",
       "3            hacked      [10]  \n",
       "4  misconfiguration  [11][12]  "
      ]
     },
     "execution_count": 57,
     "metadata": {},
     "output_type": "execute_result"
    }
   ],
   "source": [
    "df.head()"
   ]
  },
  {
   "cell_type": "code",
   "execution_count": 24,
   "metadata": {},
   "outputs": [
    {
     "name": "stdout",
     "output_type": "stream",
     "text": [
      "entity               0\n",
      "year                 0\n",
      "records              0\n",
      "organization_type    0\n",
      "method               1\n",
      "sources              2\n",
      "dtype: int64\n"
     ]
    }
   ],
   "source": [
    "print(df.isnull().sum())"
   ]
  },
  {
   "cell_type": "code",
   "execution_count": 28,
   "metadata": {},
   "outputs": [],
   "source": [
    "# null -> unknown\n",
    "df['method'] = df['method'].fillna('unknown')\n",
    "\n",
    "# null sources -> [uncited]\n",
    "df['sources'] = df['sources'].fillna('uncited')"
   ]
  },
  {
   "cell_type": "code",
   "execution_count": 27,
   "metadata": {},
   "outputs": [
    {
     "name": "stdout",
     "output_type": "stream",
     "text": [
      "entity               0\n",
      "year                 0\n",
      "records              0\n",
      "organization_type    0\n",
      "method               0\n",
      "sources              0\n",
      "dtype: int64\n"
     ]
    }
   ],
   "source": [
    "print(df.isnull().sum())"
   ]
  },
  {
   "cell_type": "code",
   "execution_count": 37,
   "metadata": {},
   "outputs": [
    {
     "data": {
      "text/plain": [
       "entity               object\n",
       "year                  Int64\n",
       "records               Int64\n",
       "organization_type    object\n",
       "method               object\n",
       "sources              object\n",
       "dtype: object"
      ]
     },
     "execution_count": 37,
     "metadata": {},
     "output_type": "execute_result"
    }
   ],
   "source": [
    "df.dtypes"
   ]
  },
  {
   "cell_type": "code",
   "execution_count": 51,
   "metadata": {},
   "outputs": [],
   "source": [
    "df = df.reset_index(drop=True) "
   ]
  },
  {
   "cell_type": "code",
   "execution_count": 62,
   "metadata": {},
   "outputs": [],
   "source": [
    "df.to_csv(\"myleak_cleaned.csv\", index=False)"
   ]
  },
  {
   "cell_type": "code",
   "execution_count": 61,
   "metadata": {},
   "outputs": [
    {
     "data": {
      "text/html": [
       "<div>\n",
       "<style scoped>\n",
       "    .dataframe tbody tr th:only-of-type {\n",
       "        vertical-align: middle;\n",
       "    }\n",
       "\n",
       "    .dataframe tbody tr th {\n",
       "        vertical-align: top;\n",
       "    }\n",
       "\n",
       "    .dataframe thead th {\n",
       "        text-align: right;\n",
       "    }\n",
       "</style>\n",
       "<table border=\"1\" class=\"dataframe\">\n",
       "  <thead>\n",
       "    <tr style=\"text-align: right;\">\n",
       "      <th></th>\n",
       "      <th>entity</th>\n",
       "      <th>year</th>\n",
       "      <th>records</th>\n",
       "      <th>organization_type</th>\n",
       "      <th>method</th>\n",
       "      <th>sources</th>\n",
       "    </tr>\n",
       "  </thead>\n",
       "  <tbody>\n",
       "    <tr>\n",
       "      <th>0</th>\n",
       "      <td>21st Century Oncology</td>\n",
       "      <td>2016</td>\n",
       "      <td>2200000</td>\n",
       "      <td>healthcare</td>\n",
       "      <td>hacked</td>\n",
       "      <td>[5][6]</td>\n",
       "    </tr>\n",
       "    <tr>\n",
       "      <th>1</th>\n",
       "      <td>500px</td>\n",
       "      <td>2020</td>\n",
       "      <td>14870304</td>\n",
       "      <td>social_media</td>\n",
       "      <td>hacked</td>\n",
       "      <td>[7]</td>\n",
       "    </tr>\n",
       "    <tr>\n",
       "      <th>2</th>\n",
       "      <td>Accendo Insurance Co.</td>\n",
       "      <td>2020</td>\n",
       "      <td>175350</td>\n",
       "      <td>healthcare</td>\n",
       "      <td>misconfiguration</td>\n",
       "      <td>[8][9]</td>\n",
       "    </tr>\n",
       "    <tr>\n",
       "      <th>3</th>\n",
       "      <td>Adobe Systems Incorporated</td>\n",
       "      <td>2013</td>\n",
       "      <td>152000000</td>\n",
       "      <td>tech</td>\n",
       "      <td>hacked</td>\n",
       "      <td>[10]</td>\n",
       "    </tr>\n",
       "    <tr>\n",
       "      <th>4</th>\n",
       "      <td>Adobe Inc.</td>\n",
       "      <td>2019</td>\n",
       "      <td>7500000</td>\n",
       "      <td>tech</td>\n",
       "      <td>misconfiguration</td>\n",
       "      <td>[11][12]</td>\n",
       "    </tr>\n",
       "    <tr>\n",
       "      <th>...</th>\n",
       "      <td>...</td>\n",
       "      <td>...</td>\n",
       "      <td>...</td>\n",
       "      <td>...</td>\n",
       "      <td>...</td>\n",
       "      <td>...</td>\n",
       "    </tr>\n",
       "    <tr>\n",
       "      <th>344</th>\n",
       "      <td>Zynga</td>\n",
       "      <td>2019</td>\n",
       "      <td>173000000</td>\n",
       "      <td>social_media</td>\n",
       "      <td>hacked</td>\n",
       "      <td>[406][407]</td>\n",
       "    </tr>\n",
       "    <tr>\n",
       "      <th>345</th>\n",
       "      <td>Unknown agency(believed to be tied to United S...</td>\n",
       "      <td>2020</td>\n",
       "      <td>200000000</td>\n",
       "      <td>financial</td>\n",
       "      <td>leak</td>\n",
       "      <td>[408]</td>\n",
       "    </tr>\n",
       "    <tr>\n",
       "      <th>346</th>\n",
       "      <td>National Health Information Center (NCZI) of S...</td>\n",
       "      <td>2020</td>\n",
       "      <td>391250</td>\n",
       "      <td>healthcare</td>\n",
       "      <td>misconfiguration</td>\n",
       "      <td>[409]</td>\n",
       "    </tr>\n",
       "    <tr>\n",
       "      <th>347</th>\n",
       "      <td>50 companies and government institutions</td>\n",
       "      <td>2022</td>\n",
       "      <td>6400000</td>\n",
       "      <td>various</td>\n",
       "      <td>misconfiguration</td>\n",
       "      <td>[410] [411]</td>\n",
       "    </tr>\n",
       "    <tr>\n",
       "      <th>348</th>\n",
       "      <td>IKEA</td>\n",
       "      <td>2022</td>\n",
       "      <td>95000</td>\n",
       "      <td>retail</td>\n",
       "      <td>leak</td>\n",
       "      <td>[412]</td>\n",
       "    </tr>\n",
       "  </tbody>\n",
       "</table>\n",
       "<p>349 rows × 6 columns</p>\n",
       "</div>"
      ],
      "text/plain": [
       "                                                entity  year    records  \\\n",
       "0                                21st Century Oncology  2016    2200000   \n",
       "1                                                500px  2020   14870304   \n",
       "2                                Accendo Insurance Co.  2020     175350   \n",
       "3                           Adobe Systems Incorporated  2013  152000000   \n",
       "4                                           Adobe Inc.  2019    7500000   \n",
       "..                                                 ...   ...        ...   \n",
       "344                                              Zynga  2019  173000000   \n",
       "345  Unknown agency(believed to be tied to United S...  2020  200000000   \n",
       "346  National Health Information Center (NCZI) of S...  2020     391250   \n",
       "347           50 companies and government institutions  2022    6400000   \n",
       "348                                               IKEA  2022      95000   \n",
       "\n",
       "    organization_type            method      sources  \n",
       "0          healthcare            hacked       [5][6]  \n",
       "1        social_media            hacked          [7]  \n",
       "2          healthcare  misconfiguration       [8][9]  \n",
       "3                tech            hacked         [10]  \n",
       "4                tech  misconfiguration     [11][12]  \n",
       "..                ...               ...          ...  \n",
       "344      social_media            hacked   [406][407]  \n",
       "345         financial              leak        [408]  \n",
       "346        healthcare  misconfiguration        [409]  \n",
       "347           various  misconfiguration  [410] [411]  \n",
       "348            retail              leak        [412]  \n",
       "\n",
       "[349 rows x 6 columns]"
      ]
     },
     "execution_count": 61,
     "metadata": {},
     "output_type": "execute_result"
    }
   ],
   "source": [
    "df"
   ]
  },
  {
   "cell_type": "code",
   "execution_count": null,
   "metadata": {},
   "outputs": [],
   "source": []
  }
 ],
 "metadata": {
  "kernelspec": {
   "display_name": "myenv",
   "language": "python",
   "name": "python3"
  },
  "language_info": {
   "codemirror_mode": {
    "name": "ipython",
    "version": 3
   },
   "file_extension": ".py",
   "mimetype": "text/x-python",
   "name": "python",
   "nbconvert_exporter": "python",
   "pygments_lexer": "ipython3",
   "version": "3.10.13"
  }
 },
 "nbformat": 4,
 "nbformat_minor": 2
}
